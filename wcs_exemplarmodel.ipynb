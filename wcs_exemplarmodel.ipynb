{
 "cells": [
  {
   "cell_type": "markdown",
   "metadata": {},
   "source": [
    "# Demos for analyzing World Color Survey (WCS)\n",
    "\n",
    "COG 260: Data, Computation, and The Mind (Yang Xu)\n",
    "\n",
    "Data source: http://www1.icsi.berkeley.edu/wcs/data.html\n",
    "\n",
    "______________________________________________\n",
    "\n",
    "Import helper function file for WCS data analysis."
   ]
  },
  {
   "cell_type": "code",
   "execution_count": 27,
   "metadata": {},
   "outputs": [],
   "source": [
    "from wcs_helper_functions import *"
   ]
  },
  {
   "cell_type": "markdown",
   "metadata": {},
   "source": [
    "Import relevant Python libraries."
   ]
  },
  {
   "cell_type": "code",
   "execution_count": 28,
   "metadata": {},
   "outputs": [],
   "source": [
    "import numpy as np\n",
    "from scipy import stats\n",
    "from scipy import spatial  \n",
    "from random import random\n",
    "from string import ascii_lowercase\n",
    "from sklearn.model_selection import LeaveOneOut\n",
    "%matplotlib inline"
   ]
  },
  {
   "cell_type": "markdown",
   "metadata": {},
   "source": [
    "## Demo 1: Import stimulus (color chip) information in [Munsell space](https://en.wikipedia.org/wiki/Munsell_color_system)\n",
    "\n",
    "> Stimuli were 330 color chips in Munsell space, each defined along lightness and hue dimensions.\n",
    "\n",
    "> Each color chip has an index _(from 1 to 330)_ and a coordinate (lightness *(alphabet)*, hue *(integer)*).\n",
    "\n",
    "In the following section, you will learn how to convert from **(a) index to coordinate** and **(b) coordinate to index**.\n",
    "\n",
    "______________________________________________\n",
    "\n",
    "Load chip information in Munsell space. \n",
    "\n",
    "`munsellInfo` is a 2-element tuple with dictionary elements."
   ]
  },
  {
   "cell_type": "code",
   "execution_count": 29,
   "metadata": {},
   "outputs": [],
   "source": [
    "munsellInfo = readChipData('./WCS_data_core/chip.txt');"
   ]
  },
  {
   "cell_type": "markdown",
   "metadata": {},
   "source": [
    "### (a) Index &rarr; Coordinate"
   ]
  },
  {
   "cell_type": "markdown",
   "metadata": {},
   "source": [
    "Access the second dictionary in `munsellInfo`."
   ]
  },
  {
   "cell_type": "code",
   "execution_count": 30,
   "metadata": {},
   "outputs": [],
   "source": [
    "indexCoord = munsellInfo[1]"
   ]
  },
  {
   "cell_type": "markdown",
   "metadata": {},
   "source": [
    "`indexCoord` is a dictionary with **index _(key)_ &rarr; coordinate _(value)_** pairs. For example, to retrieve the Munsell coordinate _(lightness, hue)_ for chip with numerical index 1:"
   ]
  },
  {
   "cell_type": "code",
   "execution_count": 31,
   "metadata": {},
   "outputs": [
    {
     "name": "stdout",
     "output_type": "stream",
     "text": [
      "('E', '29')\n"
     ]
    }
   ],
   "source": [
    "print(indexCoord[1])"
   ]
  },
  {
   "cell_type": "markdown",
   "metadata": {},
   "source": [
    "You can also uncomment the following to display full stimulus information (long)."
   ]
  },
  {
   "cell_type": "code",
   "execution_count": 32,
   "metadata": {},
   "outputs": [],
   "source": [
    "# print(indexCoord)"
   ]
  },
  {
   "cell_type": "markdown",
   "metadata": {},
   "source": [
    "### (b) Coordinate &rarr; Index"
   ]
  },
  {
   "cell_type": "markdown",
   "metadata": {},
   "source": [
    "Access the first dictionary in `munsellInfo`."
   ]
  },
  {
   "cell_type": "code",
   "execution_count": 33,
   "metadata": {},
   "outputs": [],
   "source": [
    "coordIndex = munsellInfo[0]"
   ]
  },
  {
   "cell_type": "markdown",
   "metadata": {},
   "source": [
    "`coordIndex` is a dictionary with **coordinate _(key)_ &rarr; index _(value)_** pairs. For example, to access numerical index for the color chip at Munsell coordinate _(D, 11)_:"
   ]
  },
  {
   "cell_type": "code",
   "execution_count": 34,
   "metadata": {},
   "outputs": [
    {
     "name": "stdout",
     "output_type": "stream",
     "text": [
      "258\n"
     ]
    }
   ],
   "source": [
    "print(coordIndex['D11'])"
   ]
  },
  {
   "cell_type": "markdown",
   "metadata": {},
   "source": [
    "You can also uncomment the following to display full stimulus information (long)."
   ]
  },
  {
   "cell_type": "code",
   "execution_count": 35,
   "metadata": {},
   "outputs": [],
   "source": [
    "# print(coordIndex)"
   ]
  },
  {
   "cell_type": "markdown",
   "metadata": {},
   "source": [
    "## Demo 2: Import stimulus information in [CIELAB space](https://en.wikipedia.org/wiki/Lab_color_space)\n",
    "\n",
    "> Each of the 330 stimuli can also be mapped to the 3D CIELAB space, where the dimensions are `l` _(lightness)_, `a`, & `b` _(color opponency)_.\n",
    "\n",
    "> CIELAB Coordinates have a **one-to-one** correspondence with Munsell index, which ranges from 1 to 330.\n",
    "\n",
    "______________________________________________\n",
    "\n",
    "Load chip coordinates in CIELAB. \n",
    "\n",
    "`cielabCoord` is a dictionary with **index _(key)_ &rarr; CIELAB Coordinate _(value)_** pairs."
   ]
  },
  {
   "cell_type": "code",
   "execution_count": 36,
   "metadata": {},
   "outputs": [],
   "source": [
    "cielabCoord = readClabData('./WCS_data_core/cnum-vhcm-lab-new.txt')"
   ]
  },
  {
   "cell_type": "markdown",
   "metadata": {},
   "source": [
    "For example, to obtain the CIELAB coordinates for chip with numerical index 1:"
   ]
  },
  {
   "cell_type": "code",
   "execution_count": 37,
   "metadata": {},
   "outputs": [
    {
     "name": "stdout",
     "output_type": "stream",
     "text": [
      "('61.70', '-4.52', '-39.18')\n"
     ]
    }
   ],
   "source": [
    "print(cielabCoord[1])"
   ]
  },
  {
   "cell_type": "markdown",
   "metadata": {},
   "source": [
    "## Demo 3: Import color naming data\n",
    "    \n",
    "> Each of the 330 color chips was named by speakers of 110 different languages.\n",
    "\n",
    "______________________________________________\n",
    "\n",
    "Load naming data. \n",
    "\n",
    "`namingData` is a hierarchical dictionary organized as follows:\n",
    "\n",
    "**language _(1 - 110)_ &rarr; speaker _(1 - *range varies per language*)_ &rarr; chip index _(1 - 330)_ &rarr; color term**"
   ]
  },
  {
   "cell_type": "code",
   "execution_count": 38,
   "metadata": {},
   "outputs": [],
   "source": [
    "namingData = readNamingData('./WCS_data_core/term.txt')"
   ]
  },
  {
   "cell_type": "markdown",
   "metadata": {},
   "source": [
    "For example, to obtain naming data from language 1 and speaker 1 for all 330 color chips:"
   ]
  },
  {
   "cell_type": "code",
   "execution_count": 39,
   "metadata": {},
   "outputs": [],
   "source": [
    "namingData[1][1]; # remove semicolon to see data in full"
   ]
  },
  {
   "cell_type": "markdown",
   "metadata": {},
   "source": [
    "For example, to see how many speakers language 1 has:"
   ]
  },
  {
   "cell_type": "code",
   "execution_count": 40,
   "metadata": {
    "scrolled": true
   },
   "outputs": [
    {
     "data": {
      "text/plain": [
       "25"
      ]
     },
     "execution_count": 40,
     "metadata": {},
     "output_type": "execute_result"
    }
   ],
   "source": [
    "len(namingData[1])"
   ]
  },
  {
   "cell_type": "markdown",
   "metadata": {},
   "source": [
    "## Demo 4: Import color foci data\n",
    "    \n",
    "> Apart from naming the color chips, each speaker also pointed to foci color chips for each color term they had used.\n",
    "\n",
    "> **Note**: A single color term may have multiple foci locations.\n",
    "\n",
    "______________________________________________\n",
    "\n",
    "Load foci data. \n",
    "\n",
    "`fociData` is a hierarchical dictionary organized as follows: \n",
    "\n",
    "**language _(1 - 110)_ &rarr; speaker _(1 - *range varies per language*)_ &rarr; color term &rarr; foci coordinates**"
   ]
  },
  {
   "cell_type": "code",
   "execution_count": 41,
   "metadata": {},
   "outputs": [],
   "source": [
    "fociData = readFociData('./WCS_data_core/foci-exp.txt');"
   ]
  },
  {
   "cell_type": "markdown",
   "metadata": {},
   "source": [
    "For example, to obtain foci data for language 1 and speaker 1, where each entry shows foci locations for given term: "
   ]
  },
  {
   "cell_type": "code",
   "execution_count": 42,
   "metadata": {},
   "outputs": [
    {
     "data": {
      "text/plain": [
       "{'LF': ['A:0'],\n",
       " 'WK': ['D:9', 'D:10', 'D:11', 'D:12'],\n",
       " 'F': ['D:25'],\n",
       " 'LB': ['J:0'],\n",
       " 'G': ['F:17'],\n",
       " 'LE': ['F:1', 'F:2', 'F:3', 'G:1', 'G:2', 'G:3']}"
      ]
     },
     "execution_count": 42,
     "metadata": {},
     "output_type": "execute_result"
    }
   ],
   "source": [
    "fociData[1][1]"
   ]
  },
  {
   "cell_type": "markdown",
   "metadata": {},
   "source": [
    "In the above example, foci for term 'LF' is located at coordinate _(A, 0)_ in the Munsell chart."
   ]
  },
  {
   "cell_type": "markdown",
   "metadata": {},
   "source": [
    "## Demo 5: Import speaker demographic information\n",
    "\n",
    "> Most speakers' age _(integer)_ and gender _(M/F)_ information was recorded.\n",
    "\n",
    "______________________________________________\n",
    "\n",
    "Load speaker information.\n",
    "\n",
    "`speakerInfo` is a hierarchical dictionary organized as follows:\n",
    "\n",
    "**language &rarr; speaker &rarr; (age, gender)**"
   ]
  },
  {
   "cell_type": "code",
   "execution_count": 43,
   "metadata": {},
   "outputs": [],
   "source": [
    "speakerInfo = readSpeakerData('./WCS_data_core/spkr-lsas.txt')"
   ]
  },
  {
   "cell_type": "markdown",
   "metadata": {},
   "source": [
    "For example, uncomment the following line to access _(age, gender)_ information for all speakers from language 1:"
   ]
  },
  {
   "cell_type": "code",
   "execution_count": 44,
   "metadata": {},
   "outputs": [],
   "source": [
    "# speakerInfo[1]"
   ]
  },
  {
   "cell_type": "markdown",
   "metadata": {},
   "source": [
    "For example, uncomment the following line to access _(age, gender)_ information for speaker 1 from language 1:"
   ]
  },
  {
   "cell_type": "code",
   "execution_count": 45,
   "metadata": {},
   "outputs": [],
   "source": [
    "# speakerInfo[1][1]"
   ]
  },
  {
   "cell_type": "markdown",
   "metadata": {},
   "source": [
    "## Demo 6: Visualize color naming from an individual speaker\n",
    "\n",
    "> Naming patterns from a speaker can be visualized in the stimulus palette _(Munsell space)_.\n",
    "\n",
    "______________________________________________\n",
    "\n",
    "Extract an example speaker datum from an example language."
   ]
  },
  {
   "cell_type": "code",
   "execution_count": 46,
   "metadata": {},
   "outputs": [],
   "source": [
    "lg61_spk5 = namingData[61][5]"
   ]
  },
  {
   "cell_type": "markdown",
   "metadata": {},
   "source": [
    "Extract color terms used by that speaker."
   ]
  },
  {
   "cell_type": "code",
   "execution_count": 52,
   "metadata": {},
   "outputs": [
    {
     "name": "stdout",
     "output_type": "stream",
     "text": [
      "dict_values(['LE', 'LE', 'WI', '*', 'LE', '*', 'LE', 'WI', '*', 'LE', 'LE', 'LE', 'LE', 'LE', 'RE', 'RE', 'WI', 'DU', 'LE', 'LE', 'WI', 'LE', 'DU', 'DU', 'LE', 'LE', 'RE', 'WI', 'LE', 'LE', 'RE', 'LE', 'LE', 'LE', 'WI', 'DU', 'LE', 'WI', 'LE', 'LE', 'WI', '*', 'LE', 'RE', 'LE', 'DU', 'DU', 'LE', 'LE', 'LE', 'DU', 'RE', 'WI', 'LE', 'LE', 'WI', 'LE', 'LE', 'RE', 'DU', 'WI', 'LE', 'LE', 'LE', 'WI', 'RE', 'LE', 'WI', 'LE', 'RE', 'WI', 'LE', 'WI', 'RE', 'DU', 'WI', 'LE', 'LE', 'DU', 'LE', 'LE', 'LE', 'RE', 'LE', 'LE', 'LE', 'DU', 'WI', 'DU', 'DU', 'LE', 'RE', 'LE', 'DU', 'RE', 'LE', 'LE', 'WI', 'LE', 'LE', 'WI', 'RE', 'DU', 'LE', 'WI', 'LE', 'RE', 'RE', 'LE', 'LE', 'DU', 'WI', 'DU', 'LE', 'WI', 'RE', 'DU', 'WI', 'LE', 'RE', 'WI', 'LE', 'LE', 'LE', 'WI', 'LE', 'DU', 'LE', 'RE', 'DU', 'WI', 'WI', 'LE', 'DU', 'WI', 'LE', 'LE', 'LE', 'RE', 'LE', 'RE', 'RE', 'LE', 'LE', 'LE', 'LE', 'LE', 'WI', 'LE', 'LE', 'LE', 'LE', 'LE', 'DU', 'DU', 'LE', 'DU', 'RE', 'LE', 'LE', 'LE', 'WI', 'LE', 'LE', 'DU', 'LE', 'LE', 'LE', 'LE', 'DU', 'LE', 'RE', 'WI', 'WI', 'LE', 'WI', 'LE', 'LE', 'WI', 'LE', 'WI', 'LE', 'DU', 'LE', 'LE', 'LE', 'WI', 'LE', 'RE', 'LE', 'LE', 'LE', 'LE', 'WI', 'LE', 'LE', 'LE', 'DU', 'RE', 'LE', 'LE', 'LE', 'WI', 'DU', 'LE', 'RE', 'WI', 'LE', 'LE', 'LE', 'LE', 'WI', 'LE', 'LE', 'LE', 'LE', 'LE', 'LE', 'RE', 'LE', 'RE', 'LE', 'LE', 'RE', 'LE', 'LE', 'DU', 'LE', 'LE', 'RE', 'WI', 'DU', 'LE', 'LE', 'LE', 'LE', 'RE', 'LE', 'WI', 'WI', 'RE', 'RE', 'WI', 'RE', 'WI', 'LE', 'LE', 'LE', 'LE', 'LE', 'LE', 'RE', 'LE', 'LE', 'DU', 'WI', 'LE', 'LE', 'WI', 'RE', 'WI', 'RE', 'DU', 'RE', 'LE', 'WI', 'WI', 'LE', 'WI', 'WI', 'DU', 'RE', 'LE', 'RE', 'LE', 'WI', 'LE', 'LE', 'LE', 'LE', 'LE', 'LE', 'DU', 'RE', 'LE', 'RE', 'DU', 'WI', 'LE', 'RE', 'LE', 'RE', 'RE', 'RE', 'LE', 'LE', 'LE', 'WI', 'LE', 'RE', 'LE', 'LE', 'LE', 'LE', 'WI', 'LE', 'LE', 'LE', 'DU', 'LE', 'LE', 'DU', 'LE', 'RE', 'LE', 'LE', 'WI', 'WI', 'RE', 'LE', 'WI', 'LE', 'LE', 'RE', 'WI', 'LE', 'RE', 'LE', 'DU', 'RE'])\n"
     ]
    }
   ],
   "source": [
    "terms = lg61_spk5.values()"
   ]
  },
  {
   "cell_type": "markdown",
   "metadata": {},
   "source": [
    "Encode the color terms into random numbers (for plotting purposes)."
   ]
  },
  {
   "cell_type": "code",
   "execution_count": 48,
   "metadata": {},
   "outputs": [],
   "source": [
    "encoded_terms = map_array_to(terms, generate_random_values(terms))"
   ]
  },
  {
   "cell_type": "markdown",
   "metadata": {},
   "source": [
    "Visualize the color naming pattern for that speaker&mdash;each color patch corresponds to extension of a color term. Color scheme is randomized, but the partition of the color space is invariant."
   ]
  },
  {
   "cell_type": "code",
   "execution_count": 49,
   "metadata": {},
   "outputs": [
    {
     "data": {
      "image/png": "[encoded data removed]",
      "text/plain": [
       "<Figure size 5760x2880 with 2 Axes>"
      ]
     },
     "metadata": {
      "needs_background": "light"
     },
     "output_type": "display_data"
    }
   ],
   "source": [
    "plotValues(encoded_terms)"
   ]
  },
  {
   "cell_type": "markdown",
   "metadata": {},
   "source": [
    "**Note**: `plotValues()` is a generic function for visualizing various kinds of information on the chart, suited to needs."
   ]
  },
  {
   "cell_type": "markdown",
   "metadata": {},
   "source": [
    "Now you are in a position to start exploring this data set - enjoy!"
   ]
  },
  {
   "cell_type": "markdown",
   "metadata": {},
   "source": [
    "Here we aggregate the data to develop the labels and set up our feature matrix."
   ]
  },
  {
   "cell_type": "code",
   "execution_count": 50,
   "metadata": {},
   "outputs": [],
   "source": [
    "\n",
    "\n",
    "### Exemplar Model\n",
    "\n",
    "def LOOCV_Exemplar(F, terms_inds):\n",
    "    loo = LeaveOneOut()\n",
    "    loo.get_n_splits(F)\n",
    "    accuracy = 0\n",
    "\n",
    "    for train_index, test_index in loo.split(F):\n",
    "\n",
    "        # Get training and testing data points\n",
    "\n",
    "        F_train, F_test = np.asarray(F)[train_index], np.asarray(F)[test_index]\n",
    "        y_train, y_test = labels[train_index], labels[test_index]\n",
    "\n",
    "        # This is the test coordinate (F_test[0]) and the target color term (y_test)\n",
    "        # print (F_test[0], y_test)\n",
    "\n",
    "        prediction = ''\n",
    "\n",
    "        dist_dict = {}\n",
    "        sim_dict = {}\n",
    "\n",
    "        for term in color_terms:\n",
    "            # Calculate the distance from the test coordinate to every single exemplar of each color category\n",
    "            dist_dict[term] = np.array([spatial.distance.euclidean(coord, F_test[0]) for coord in terms_inds[term] if np.all(coord != F_test[0])])\n",
    "\n",
    "            # Calculate the average simlarity between the test coordinate and each color category  \n",
    "            sim_dict[term] = np.sum(np.exp(-(dist_dict[term])**2)) / len(dist_dict[term])\n",
    "\n",
    "        # print(sim_dict)\n",
    "\n",
    "        # Choose the color category with the highest similarity \n",
    "        prediction = max(sim_dict, key=sim_dict.get)\n",
    "\n",
    "        # print (prediction)\n",
    "\n",
    "        if prediction == y_test:\n",
    "            accuracy += 1 \n",
    "\n",
    "    accuracy = accuracy / 330\n",
    "\n",
    "    return accuracy\n",
    "    \n",
    "# REMEMBER TO DO VISUALS BUT FIRST FIX LANGUAGE 31 "
   ]
  },
  {
   "cell_type": "code",
   "execution_count": null,
   "metadata": {},
   "outputs": [
    {
     "name": "stdout",
     "output_type": "stream",
     "text": [
      "=====================STARTING LANGUAGE:  1 ================================\n",
      "Color categories: ['LE', 'F', 'LF', 'WK', 'S', 'G', 'LB']\n",
      "Accuracy for language 1 : 0.593939393939394\n",
      "=====================STARTING LANGUAGE:  2 ================================\n",
      "Color categories: ['WT', 'KA', 'IT', 'AT', 'NR', 'AA', 'EP', 'YN', 'TK', 'PN']\n",
      "Accuracy for language 2 : 0.5151515151515151\n",
      "=====================STARTING LANGUAGE:  3 ================================\n",
      "Color categories: ['BA', 'KA', 'AT', 'BU', 'EL', 'ED', 'AA', 'DA', 'NG', 'PA', 'ID']\n",
      "Accuracy for language 3 : 0.5363636363636364\n",
      "=====================STARTING LANGUAGE:  4 ================================\n",
      "Color categories: ['TA', 'KA', 'CY', 'CE', 'SA', 'KE', 'XE', 'XK', 'TX']\n",
      "Accuracy for language 4 : 0.5818181818181818\n",
      "=====================STARTING LANGUAGE:  5 ================================\n",
      "Color categories: ['5', '1', '7', '9', '4', '6', '2']\n",
      "Accuracy for language 5 : 0.6424242424242425\n",
      "=====================STARTING LANGUAGE:  6 ================================\n",
      "Color categories: ['SI', 'HN', 'HS', 'HA', 'SA', 'YA', 'SN']\n",
      "Accuracy for language 6 : 0.6303030303030303\n",
      "=====================STARTING LANGUAGE:  7 ================================\n",
      "Color categories: ['TA', 'N', 'T', 'WE', 'W', 'TJ', 'C', 'CH', 'J', 'JU', 'NT', 'TC']\n",
      "Accuracy for language 7 : 0.593939393939394\n",
      "=====================STARTING LANGUAGE:  8 ================================\n",
      "Color categories: ['AM', 'I', 'A', 'KW', 'N', 'AH', 'K']\n",
      "Accuracy for language 8 : 0.6727272727272727\n",
      "=====================STARTING LANGUAGE:  9 ================================\n",
      "Color categories: ['RA', 'ER', 'FA', 'TS', 'AA', 'GR']\n",
      "Accuracy for language 9 : 0.6212121212121212\n",
      "=====================STARTING LANGUAGE:  10 ================================\n",
      "Color categories: ['MU', 'PO', 'CO', 'NN', 'NA', 'NE', 'PA']\n"
     ]
    }
   ],
   "source": [
    "acc_list = []\n",
    "namingData = readNamingData('./WCS_data_core/term.txt')\n",
    "\n",
    "for i in range (1, 111):    \n",
    "    ground_truth = {}\n",
    "    ground_truth_data = {}\n",
    "    \n",
    "\n",
    "    #doing lanugage 1. This would eventually need to be changed into a for-loop to cycle through every language\n",
    "    language = namingData[i]\n",
    "    print (\"=====================STARTING LANGUAGE: \", i, \"================================\")\n",
    "    for k in language[1].keys():\n",
    "      # Aggregate all given color terms for each chip   \n",
    "      ground_truth_data[k] = tuple(d[1][k] for d in language.items() if d[1][k] != \"*\")\n",
    "\n",
    "    for k in ground_truth_data:\n",
    "        # choose the color term that appears most frequently as our ground truth value for each chip.\n",
    "        ground_truth[k] = stats.mode(ground_truth_data[k])\n",
    "\n",
    "    # Our labels for each color chip \n",
    "\n",
    "    labels = np.array([chip[1].mode[0] for chip in ground_truth.items()])    \n",
    "    # print (labels)\n",
    "\n",
    "    # All unique color terms from the ground truth. These determine our \"categories\"\n",
    "    color_terms = list(set(labels))\n",
    "\n",
    "    print (\"Color categories:\", color_terms)\n",
    "\n",
    "    # Construct feature matrix\n",
    "    F = [indexCoord[k] for k in range(1,331)]\n",
    "\n",
    "    # print (np.array(F))\n",
    "\n",
    "    # Lightness variable is a letter, lets convert this into an integer.\n",
    "    F = np.transpose(F)\n",
    "    # print (F[0])\n",
    "    light_num = [int(ord(letter)-64) for letter in F[0]]\n",
    "    F = np.transpose([light_num, F[1]])\n",
    "\n",
    "    terms_inds = {}\n",
    "\n",
    "    # Convert coordinates into tuple(int,int) THIS WILL ONLY WORK FOR MUNSELL SPACE, IF YOU WANT TO DO CIELAB, YOU NEED TO MODIFY\n",
    "    F = [tuple([int(coord[0]), int(coord[1])]) for coord in F]\n",
    "\n",
    "    # print (F)\n",
    "\n",
    "    for ind, term in enumerate(labels):\n",
    "        if term not in terms_inds:\n",
    "            terms_inds[term] = [F[ind]]\n",
    "        else:\n",
    "            terms_inds[term].append(F[ind])\n",
    "\n",
    "    # print (terms_inds)\n",
    "\n",
    "    accuracy = LOOCV_Exemplar(F, terms_inds)\n",
    "    acc_list.append(accuracy)\n",
    "    \n",
    "    \n",
    "    print (\"Accuracy for language\", i, \":\",accuracy)\n",
    "\n",
    "\n",
    "\n",
    "    #for term in color_terms:\n",
    "    #    print (term)\n",
    "    #    print (np.array([spatial.distance.euclidean(coord, (5,29)) for coord in terms_inds[term] if coord != (5,29)]))\n",
    "        \n",
    "print (\"EXEMPLAR MODEL AVERAGE ACCURACY:\", np.mean(acc_list))\n",
    "        "
   ]
  },
  {
   "cell_type": "code",
   "execution_count": null,
   "metadata": {},
   "outputs": [],
   "source": []
  },
  {
   "cell_type": "code",
   "execution_count": null,
   "metadata": {},
   "outputs": [],
   "source": []
  }
 ],
 "metadata": {
  "anaconda-cloud": {},
  "kernelspec": {
   "display_name": "Python 3",
   "language": "python",
   "name": "python3"
  },
  "language_info": {
   "codemirror_mode": {
    "name": "ipython",
    "version": 3
   },
   "file_extension": ".py",
   "mimetype": "text/x-python",
   "name": "python",
   "nbconvert_exporter": "python",
   "pygments_lexer": "ipython3",
   "version": "3.8.3"
  }
 },
 "nbformat": 4,
 "nbformat_minor": 4
}
